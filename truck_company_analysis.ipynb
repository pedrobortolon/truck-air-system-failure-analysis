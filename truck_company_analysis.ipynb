{
 "cells": [
  {
   "cell_type": "code",
   "execution_count": 2,
   "metadata": {},
   "outputs": [],
   "source": [
    "import numpy as np\n",
    "import pandas as pd\n",
    "import matplotlib.pyplot as plt\n",
    "import seaborn as sns"
   ]
  },
  {
   "cell_type": "code",
   "execution_count": 43,
   "metadata": {},
   "outputs": [
    {
     "name": "stdout",
     "output_type": "stream",
     "text": [
      "Columns are equal on both datasets: True\n",
      "previous data shape: (60000, 171)\n",
      "present data shape: (16000, 171)\n"
     ]
    }
   ],
   "source": [
    "previous = pd.read_csv(\"datasets/air_system_previous_years.csv\")\n",
    "present = pd.read_csv(\"datasets/air_system_present_year.csv\")\n",
    "\n",
    "print(\"Columns are equal on both datasets:\", (previous.columns == present.columns).all()) # check if there are any new or differnt columns\n",
    "print(\"previous data shape:\", previous.shape)\n",
    "print(\"present data shape:\", present.shape)"
   ]
  },
  {
   "cell_type": "code",
   "execution_count": 44,
   "metadata": {},
   "outputs": [
    {
     "name": "stderr",
     "output_type": "stream",
     "text": [
      "C:\\Users\\pedro\\AppData\\Roaming\\Python\\Python313\\site-packages\\pandas\\core\\dtypes\\common.py:1645: DeprecationWarning: Converting `np.inexact` or `np.floating` to a dtype is deprecated. The current result is `float64` which is not strictly correct.\n",
      "  npdtype = np.dtype(dtype)\n",
      "C:\\Users\\pedro\\AppData\\Roaming\\Python\\Python313\\site-packages\\pandas\\core\\dtypes\\common.py:1645: DeprecationWarning: Converting `np.inexact` or `np.floating` to a dtype is deprecated. The current result is `float64` which is not strictly correct.\n",
      "  npdtype = np.dtype(dtype)\n",
      "C:\\Users\\pedro\\AppData\\Roaming\\Python\\Python313\\site-packages\\pandas\\core\\dtypes\\common.py:1645: DeprecationWarning: Converting `np.inexact` or `np.floating` to a dtype is deprecated. The current result is `float64` which is not strictly correct.\n",
      "  npdtype = np.dtype(dtype)\n",
      "C:\\Users\\pedro\\AppData\\Roaming\\Python\\Python313\\site-packages\\pandas\\core\\dtypes\\common.py:1645: DeprecationWarning: Converting `np.inexact` or `np.floating` to a dtype is deprecated. The current result is `float64` which is not strictly correct.\n",
      "  npdtype = np.dtype(dtype)\n",
      "C:\\Users\\pedro\\AppData\\Local\\Temp\\ipykernel_3092\\3816633586.py:8: FutureWarning: Setting an item of incompatible dtype is deprecated and will raise in a future error of pandas. Value '0           60.0\n",
      "1           82.0\n",
      "2        66002.0\n",
      "3        59816.0\n",
      "4         1814.0\n",
      "          ...   \n",
      "15995    81852.0\n",
      "15996       18.0\n",
      "15997    79636.0\n",
      "15998      110.0\n",
      "15999        8.0\n",
      "Name: aa_000, Length: 16000, dtype: float64' has dtype incompatible with int64, please explicitly cast to a compatible dtype first.\n",
      "  present.iloc[:, 1:] = present.iloc[:, 1:].astype(np.number)\n"
     ]
    }
   ],
   "source": [
    "previous.replace(\"na\", np.nan, inplace=True)\n",
    "present.replace(\"na\", np.nan, inplace=True)\n",
    "\n",
    "previous.iloc[:, 0].astype(str)\n",
    "previous.iloc[:, 1:].astype(np.number)\n",
    "\n",
    "present.iloc[:, 0] = present.iloc[:, 0].astype(str)\n",
    "present.iloc[:, 1:] = present.iloc[:, 1:].astype(np.number)"
   ]
  },
  {
   "cell_type": "code",
   "execution_count": 66,
   "metadata": {},
   "outputs": [
    {
     "name": "stdout",
     "output_type": "stream",
     "text": [
      "Previous percentage of air failures: 1.6666666666666667%\n",
      "Present percentage of air failures: 2.34375%\n"
     ]
    }
   ],
   "source": [
    "previous_air_problems = previous.iloc[:, :2].groupby(\"class\").count().loc[\"pos\", previous.columns[1]]\n",
    "print(\"Previous percentage of air failures:\", f\"{previous_air_problems/600}%\")\n",
    "\n",
    "present_air_problems = present.iloc[:, :2].groupby(\"class\").count().loc[\"pos\", previous.columns[1]]\n",
    "print(\"Present percentage of air failures:\", f\"{present_air_problems/160}%\")"
   ]
  },
  {
   "cell_type": "code",
   "execution_count": null,
   "metadata": {},
   "outputs": [],
   "source": []
  }
 ],
 "metadata": {
  "kernelspec": {
   "display_name": "Python 3.13.2 64-bit",
   "language": "python",
   "name": "python3"
  },
  "language_info": {
   "codemirror_mode": {
    "name": "ipython",
    "version": 3
   },
   "file_extension": ".py",
   "mimetype": "text/x-python",
   "name": "python",
   "nbconvert_exporter": "python",
   "pygments_lexer": "ipython3",
   "version": "3.13.2"
  },
  "orig_nbformat": 4,
  "vscode": {
   "interpreter": {
    "hash": "cfcb51ba6a5898a96229f8cdebac4678b232c747c5fc819b474621f23ba7f45c"
   }
  }
 },
 "nbformat": 4,
 "nbformat_minor": 2
}
